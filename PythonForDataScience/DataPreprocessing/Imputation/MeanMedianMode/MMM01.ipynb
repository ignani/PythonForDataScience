{
 "cells": [
  {
   "cell_type": "markdown",
   "metadata": {
    "collapsed": true
   },
   "source": [
    "# [sklearn.impute.SimpleImputer](https://scikit-learn.org/stable/modules/impute.html)\n",
    "\n",
    "## Univariate \n",
    "\n",
    "\n",
    "Datasets contain missing values, often encoded as blanks, NaNs or other placeholders.\n",
    "Such datasets however are incompatible with scikit-learn estimators which assume that all values in an array are numerical,\n",
    "and that all have and hold meaning.\n",
    "\n",
    "Scikit learn library provides option to impute values various algorithms.\n",
    "- **Univariate imputation**<br>\n",
    "    which imputes values in the i-th feature dimension using only non-missing values in that feature dimension (e.g. impute.SimpleImputer).\n",
    "- **Multivariate imputation**<br>\n",
    "    use the entire set of available feature dimensions to estimate the missing values (e.g. impute.IterativeImputer).\n",
    "\n",
    "This sample covers imputing the missing values using **Univariate** imputation\n",
    "\n",
    "The **SimpleImputer** class provides basic strategies for imputing missing values.\n",
    "Missing values can be imputed with a provided constant value, or using the statistics (mean, median or most frequent) of each column in which the missing values are located. This class also allows for different missing values encodings.\n",
    "\n",
    "*class sklearn.impute.**SimpleImputer**(missing_values=nan, strategy=’mean’, fill_value=None, verbose=0, copy=True, add_indicator=False)*\n",
    "##### Parameters:\t\n",
    "- **missing_values** : number, string, np.nan (default) or None.<br>The placeholder for the missing values. All occurrences of missing_values will be imputed.\n",
    "- **strategy** : string, optional (default=”mean”).<br>The imputation strategy.\n",
    " - **mean** replaces missing values using the mean along each column. Can only be used with numeric data.\n",
    " - **median** replaces missing values using the median along each column. Can only be used with numeric data.\n",
    " - **most_frequent** replaces missing using the most frequent value along each column. Can be used with strings or numeric data.\n",
    " - **constant** replaces missing values with fill_value. Can be used with strings or numeric data.<br>\n",
    "New in version 0.20: strategy=”constant” for fixed value imputation.\n",
    "- **fill_value** : string or numerical value, optional (default=None)<br>\n",
    "When strategy == “constant”, fill_value is used to replace all occurrences of missing_values.<br> If left to the default, fill_value will be 0 when imputing numerical data and “missing_value” for strings or object data types.\n",
    "- **verbose** : integer, optional (default=0).<br>Controls the verbosity of the imputer.\n",
    "- **copy** : boolean, optional (default=True).<br>If True, a copy of X will be created. <br>If False, imputation will be done in-place whenever possible. <br>***Note*** that, in the following cases, a new copy will always be made, even if copy=False:\n",
    " - If X is not an array of floating values;\n",
    " - If X is encoded as a CSR matrix;\n",
    " - If add_indicator=True.\n",
    "- **add_indicator** : boolean, optional (default=False).<br>If True, a MissingIndicator transform will stack onto output of the imputer’s transform. This allows a predictive estimator to account for missingness despite imputation. If a feature has no missing values at fit/train time, the feature won’t appear on the missing indicator even if there are missing values at transform/test time."
   ]
  },
  {
   "cell_type": "markdown",
   "metadata": {},
   "source": [
    "The following snippet demonstrates how to replace missing values, encoded as np.nan, using the mean value of the columns (axis 0) that contain the missing values:"
   ]
  },
  {
   "cell_type": "code",
   "execution_count": 1,
   "metadata": {},
   "outputs": [],
   "source": [
    "import numpy as np\n",
    "from sklearn.impute import SimpleImputer"
   ]
  },
  {
   "cell_type": "code",
   "execution_count": 2,
   "metadata": {},
   "outputs": [
    {
     "data": {
      "text/plain": [
       "SimpleImputer(add_indicator=False, copy=True, fill_value=None,\n",
       "              missing_values=nan, strategy='mean', verbose=0)"
      ]
     },
     "execution_count": 2,
     "metadata": {},
     "output_type": "execute_result"
    }
   ],
   "source": [
    "imp = SimpleImputer(missing_values=np.nan, strategy='mean')\n",
    "imp.fit([[1, 2], [np.nan, 3], [7, 6]])"
   ]
  },
  {
   "cell_type": "code",
   "execution_count": 3,
   "metadata": {},
   "outputs": [
    {
     "name": "stdout",
     "output_type": "stream",
     "text": [
      "[[4.         2.        ]\n",
      " [6.         3.66666667]\n",
      " [7.         6.        ]]\n"
     ]
    }
   ],
   "source": [
    "X = [[np.nan, 2], [6, np.nan], [7, 6]]\n",
    "print(imp.transform(X))"
   ]
  },
  {
   "cell_type": "markdown",
   "metadata": {},
   "source": [
    "The SimpleImputer class also supports **sparse matrices**:"
   ]
  },
  {
   "cell_type": "code",
   "execution_count": 5,
   "metadata": {},
   "outputs": [
    {
     "data": {
      "text/plain": [
       "SimpleImputer(add_indicator=False, copy=True, fill_value=None,\n",
       "              missing_values=-1, strategy='mean', verbose=0)"
      ]
     },
     "execution_count": 5,
     "metadata": {},
     "output_type": "execute_result"
    }
   ],
   "source": [
    "import scipy.sparse as sp\n",
    "X = sp.csc_matrix([[1, 2], [0, -1], [8, 4]])\n",
    "imp = SimpleImputer(missing_values=-1, strategy='mean')\n",
    "imp.fit(X)"
   ]
  },
  {
   "cell_type": "code",
   "execution_count": 6,
   "metadata": {},
   "outputs": [
    {
     "name": "stdout",
     "output_type": "stream",
     "text": [
      "[[3. 2.]\n",
      " [6. 3.]\n",
      " [7. 6.]]\n"
     ]
    }
   ],
   "source": [
    "X_test = sp.csc_matrix([[-1, 2], [6, -1], [7, 6]])\n",
    "print(imp.transform(X_test).toarray())"
   ]
  },
  {
   "cell_type": "markdown",
   "metadata": {},
   "source": [
    "**Note** *that this format is not meant to be used to implicitly store missing values in the matrix because it would densify it at transform time. Missing values encoded by 0 must be used with dense input.*\n",
    "\n",
    "The SimpleImputer class also supports **categorical data** represented as string values or pandas categoricals when using the ***most_frequent*** or ***constant*** strategy:"
   ]
  },
  {
   "cell_type": "code",
   "execution_count": 7,
   "metadata": {},
   "outputs": [
    {
     "name": "stdout",
     "output_type": "stream",
     "text": [
      "[['a' 'x']\n",
      " ['a' 'y']\n",
      " ['a' 'y']\n",
      " ['b' 'y']]\n"
     ]
    }
   ],
   "source": [
    "import pandas as pd\n",
    "df = pd.DataFrame([[\"a\", \"x\"],[np.nan, \"y\"],[\"a\", np.nan],[\"b\", \"y\"]], dtype=\"category\")\n",
    "imp = SimpleImputer(strategy=\"most_frequent\")\n",
    "print(imp.fit_transform(df))"
   ]
  },
  {
   "cell_type": "code",
   "execution_count": null,
   "metadata": {},
   "outputs": [],
   "source": []
  }
 ],
 "metadata": {
  "kernelspec": {
   "display_name": "Python 3",
   "language": "python",
   "name": "python3"
  },
  "language_info": {
   "codemirror_mode": {
    "name": "ipython",
    "version": 3
   },
   "file_extension": ".py",
   "mimetype": "text/x-python",
   "name": "python",
   "nbconvert_exporter": "python",
   "pygments_lexer": "ipython3",
   "version": "3.7.0"
  }
 },
 "nbformat": 4,
 "nbformat_minor": 1
}
